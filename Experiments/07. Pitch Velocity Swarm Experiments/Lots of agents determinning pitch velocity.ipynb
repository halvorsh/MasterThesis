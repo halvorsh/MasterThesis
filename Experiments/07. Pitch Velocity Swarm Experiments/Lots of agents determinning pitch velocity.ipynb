{
 "cells": [
  {
   "cell_type": "code",
   "execution_count": 1,
   "id": "e33f5343",
   "metadata": {},
   "outputs": [],
   "source": [
    "import numpy as np\n",
    "import mido\n",
    "import pretty_midi\n",
    "import sklearn\n",
    "import matplotlib.pyplot as plt\n",
    "import matplotlib as mpl\n",
    "mpl.rcParams['figure.dpi'] = 600"
   ]
  },
  {
   "cell_type": "code",
   "execution_count": 2,
   "id": "95f97531",
   "metadata": {},
   "outputs": [],
   "source": [
    "def convert_histograms_into_notes(hist_series, time_difference=1):\n",
    "    midi = pretty_midi.PrettyMIDI()\n",
    "    instrument = pretty_midi.Instrument(0)\n",
    "    midi.instruments = [instrument]\n",
    "    \n",
    "    \n",
    "    \n",
    "    instrument.notes = []\n",
    "    counter = 0\n",
    "    for hist in hist_series:\n",
    "        pitch = 21\n",
    "        for note in hist:\n",
    "            note *= 127\n",
    "            note = int(note // 1)\n",
    "            midiNote = pretty_midi.Note(note, pitch, counter, counter+time_difference)\n",
    "            instrument.notes.append(midiNote)\n",
    "            \n",
    "            pitch += 1\n",
    "            \n",
    "        counter += time_difference\n",
    "    \n",
    "    return midi"
   ]
  },
  {
   "cell_type": "code",
   "execution_count": 24,
   "id": "185758bc",
   "metadata": {},
   "outputs": [],
   "source": [
    "class Agent:\n",
    "    def __init__(self):\n",
    "        self.pos = np.random.randint(50,76)\n",
    "        self.remain_at_same = 0\n",
    "        self.allowed_moves = np.random.randint(0,8,3)\n",
    "        \n",
    "    def update(self, hist):\n",
    "        #interval_weights = [0.6,0.2,0]\n",
    "        \n",
    "        desired_index = -1\n",
    "        if self.remain_at_same > 5:\n",
    "            least_weight = 2\n",
    "            for i in [-12, -9, -8, -7, -5, -4, -3, 3, 4, 5, 7, 8, 9, 12]:\n",
    "                i += self.pos - 21\n",
    "                if i >= 0 and i < len(hist):\n",
    "                    weight = hist[i]\n",
    "                    if weight < least_weight:\n",
    "                        desired_index = i\n",
    "                        least_weight = weight\n",
    "        elif np.random.random() < 0.1:\n",
    "            index = self.pos - 21\n",
    "\n",
    "            desired_index = -1\n",
    "            best_weight = -1\n",
    "\n",
    "            for i in range(index-7, index+8):\n",
    "                if i >= 0 and i < len(hist):\n",
    "                    #print(i, len(hist), index)\n",
    "                    weight = hist[i]\n",
    "                    if weight > best_weight:\n",
    "                        desired_index = i\n",
    "                        best_weight = weight\n",
    "        \n",
    "        if self.pos == desired_index + 21:\n",
    "            self.remain_at_same += 1\n",
    "        else:\n",
    "            self.remain_at_same = 0\n",
    "        \n",
    "            move_to_make = np.random.choice(self.allowed_moves)\n",
    "            if desired_index + 21 > self.pos:\n",
    "                self.pos += move_to_make\n",
    "                if self.pos > 108:\n",
    "                    self.pos = 108\n",
    "            else:\n",
    "                self.pos -= move_to_make\n",
    "                if self.pos < 21:\n",
    "                    self.pos = 21"
   ]
  },
  {
   "cell_type": "code",
   "execution_count": 7,
   "id": "3f45b5d7",
   "metadata": {},
   "outputs": [],
   "source": [
    "class System:\n",
    "    def __init__(self, number_of_agents):\n",
    "        \n",
    "        self.agents = [Agent() for i in range(number_of_agents)]\n",
    "        self.make_hist()\n",
    "    \n",
    "    def make_hist(self):\n",
    "        histogram = np.zeros(109-21)\n",
    "        for agent in self.agents:\n",
    "            index = agent.pos - 21\n",
    "            histogram[index] += 1\n",
    "        \n",
    "        histogram = histogram/np.max(histogram)\n",
    "        \n",
    "        self.hist = histogram\n",
    "    \n",
    "    def update(self):\n",
    "        for agent in self.agents:\n",
    "            agent.update(self.hist)\n",
    "        \n",
    "        self.make_hist()\n",
    "        \n",
    "        return self.hist"
   ]
  },
  {
   "cell_type": "code",
   "execution_count": 25,
   "id": "0d69741f",
   "metadata": {
    "scrolled": true
   },
   "outputs": [],
   "source": [
    "sy = System(2000)\n",
    "\n",
    "histogram = [sy.hist]\n",
    "for i in range(100):\n",
    "    histogram.append(sy.update())\n",
    "\n",
    "midi = convert_histograms_into_notes(histogram, 0.1)\n",
    "\n",
    "midi.write(\"PitchVelocityExperiment.mid\")"
   ]
  },
  {
   "cell_type": "code",
   "execution_count": 19,
   "id": "af0e061c",
   "metadata": {},
   "outputs": [
    {
     "name": "stdout",
     "output_type": "stream",
     "text": [
      "[0.         0.         0.         0.         0.         0.\n",
      " 0.         0.         0.         0.         0.         0.\n",
      " 0.         0.         0.         0.         0.         0.\n",
      " 0.         0.         0.         0.         0.         0.\n",
      " 0.         0.         0.         0.         0.         0.91578947\n",
      " 0.81052632 0.76842105 0.84210526 0.81052632 0.81052632 0.76842105\n",
      " 0.78947368 0.87368421 0.70526316 0.78947368 0.81052632 0.82105263\n",
      " 0.81052632 0.73684211 0.97894737 1.         1.         0.92631579\n",
      " 0.77894737 0.8        0.69473684 0.84210526 0.57894737 0.58947368\n",
      " 0.8        0.         0.         0.         0.         0.\n",
      " 0.         0.         0.         0.         0.         0.\n",
      " 0.         0.         0.         0.         0.         0.\n",
      " 0.         0.         0.         0.         0.         0.\n",
      " 0.         0.         0.         0.         0.         0.\n",
      " 0.         0.         0.         0.        ]\n"
     ]
    }
   ],
   "source": [
    "print(histogram[0])"
   ]
  },
  {
   "cell_type": "code",
   "execution_count": null,
   "id": "00b0a8f4",
   "metadata": {},
   "outputs": [
    {
     "name": "stderr",
     "output_type": "stream",
     "text": [
      "MovieWriter ffmpeg unavailable; using Pillow instead.\n"
     ]
    }
   ],
   "source": [
    "import matplotlib.pyplot as plt\n",
    "import matplotlib.animation as animation\n",
    "from IPython.display import HTML\n",
    "\n",
    "# Fixing random state for reproducibility\n",
    "np.random.seed(19680801)\n",
    "# Fixing bin edges\n",
    "HIST_BINS = np.linspace(21, 109, 100)\n",
    "\n",
    "# histogram our data with numpy\n",
    "n = histogram[0]\n",
    "\n",
    "def prepare_animation(bar_container):\n",
    "\n",
    "    def animate(frame_number):\n",
    "        n = histogram[frame_number]\n",
    "        for count, rect in zip(n, bar_container.patches):\n",
    "            rect.set_height(count)\n",
    "        return bar_container.patches\n",
    "    return animate\n",
    "\n",
    "fig, ax = plt.subplots()\n",
    "_, _, bar_container = ax.hist(data, HIST_BINS, lw=1,\n",
    "                              ec=\"yellow\", fc=\"green\", alpha=0.5)\n",
    "ax.set_ylim(top=1)  # set safe limit to ensure that all data is visible.\n",
    "\n",
    "ani = animation.FuncAnimation(fig, prepare_animation(bar_container), 50,\n",
    "                              repeat=False, blit=True)\n",
    "ani.save(\"histogram.gif\")"
   ]
  }
 ],
 "metadata": {
  "kernelspec": {
   "display_name": "Python 3 (ipykernel)",
   "language": "python",
   "name": "python3"
  },
  "language_info": {
   "codemirror_mode": {
    "name": "ipython",
    "version": 3
   },
   "file_extension": ".py",
   "mimetype": "text/x-python",
   "name": "python",
   "nbconvert_exporter": "python",
   "pygments_lexer": "ipython3",
   "version": "3.8.11"
  }
 },
 "nbformat": 4,
 "nbformat_minor": 5
}
