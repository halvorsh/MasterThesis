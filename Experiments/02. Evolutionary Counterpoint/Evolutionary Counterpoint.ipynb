{
 "cells": [
  {
   "cell_type": "code",
   "execution_count": 1,
   "id": "78c4760d",
   "metadata": {},
   "outputs": [],
   "source": [
    "import numpy as np\n",
    "import mido\n",
    "import pretty_midi\n",
    "import sklearn"
   ]
  },
  {
   "cell_type": "code",
   "execution_count": 95,
   "id": "da1b3e11",
   "metadata": {},
   "outputs": [],
   "source": [
    "def notes_to_instrument(notes, type_inst=0):\n",
    "    instrument = pretty_midi.Instrument(type_inst)\n",
    "    instrument.notes = [pretty_midi.Note(100,notes[i],i,i+1) for i in range(len(notes))]\n",
    "    return instrument"
   ]
  },
  {
   "cell_type": "code",
   "execution_count": 3,
   "id": "dfde1d67",
   "metadata": {},
   "outputs": [],
   "source": [
    "cantus_firmus = np.array([50,53,52,50,55,53,57,55,53,52,50])\n",
    "melody = pretty_midi.PrettyMIDI()\n",
    "melody.instruments = [notes_to_instrument(cantus_firmus)]\n",
    "melody.write(\"cantus.mid\")"
   ]
  },
  {
   "cell_type": "code",
   "execution_count": 4,
   "id": "47c029ff",
   "metadata": {},
   "outputs": [],
   "source": [
    "counterpoint = np.array([57,57,55,57,59,60,60,59,62,61,62])\n",
    "melody.instruments = [notes_to_instrument(cantus_firmus), notes_to_instrument(counterpoint)]\n",
    "melody.write(\"counterpoint.mid\")"
   ]
  },
  {
   "cell_type": "code",
   "execution_count": 110,
   "id": "a742862d",
   "metadata": {},
   "outputs": [
    {
     "data": {
      "text/plain": [
       "37"
      ]
     },
     "execution_count": 110,
     "metadata": {},
     "output_type": "execute_result"
    }
   ],
   "source": [
    "def score_counterpoint(cantus_firmus, counterpoint):\n",
    "    root = cantus_firmus[0]\n",
    "    perfect_consonances = [0,7]\n",
    "    imperfect_consonances = [3,4,5,8,9]\n",
    "    major_sixth = 9\n",
    "    major_scale = [0,2,4,5,7,9,11]\n",
    "    \n",
    "    score = 0\n",
    "    previous = 0\n",
    "    previous_cantus = 0\n",
    "    for i in range(len(cantus_firmus)):\n",
    "        difference = counterpoint[i] - cantus_firmus[i]\n",
    "        root_difference = counterpoint[i] - root\n",
    "        cantus_difference = cantus_firmus[i] - previous_cantus\n",
    "        previous_note_diff = counterpoint[i] - previous\n",
    "        if difference < 0:\n",
    "            score -= 10\n",
    "        if i == 0 or i == len(cantus_firmus):\n",
    "            if root_difference%12 == 0:\n",
    "                score += 10\n",
    "        elif i == len(cantus_firmus) - 2:\n",
    "            if difference%12 == major_sixth:\n",
    "                score += 10\n",
    "        else:\n",
    "            if difference%12 in imperfect_consonances and root_difference%12 in major_scale:\n",
    "                score += 4\n",
    "            if difference%12 in perfect_consonances and root_difference%12 in major_scale:\n",
    "                score += 2\n",
    "            if abs(counterpoint[i]-previous) > 5:\n",
    "                score -= 5\n",
    "            if cantus_difference > 0 != previous_note_diff > 0:\n",
    "                score += 7\n",
    "            if previous == counterpoint[i]:\n",
    "                score -= 2\n",
    "        previous = counterpoint[i]\n",
    "        previous_cantus = cantus_firmus[i]\n",
    "    return max(score, 0)\n",
    "\n",
    "score_counterpoint(cantus_firmus, counterpoint)"
   ]
  },
  {
   "cell_type": "code",
   "execution_count": 6,
   "id": "a83e8d2c",
   "metadata": {},
   "outputs": [],
   "source": [
    "def mutation(counter, chance):\n",
    "    mutated = counter.copy()\n",
    "    for i in range(len(mutated)):\n",
    "        if np.random.random() < chance:\n",
    "            mutated[i] += np.random.randint(-4,5)\n",
    "    return mutated"
   ]
  },
  {
   "cell_type": "code",
   "execution_count": 7,
   "id": "83fcb457",
   "metadata": {},
   "outputs": [],
   "source": [
    "def crossover(parent1, parent2):\n",
    "    cutpoint = np.random.randint(0, len(parent1))\n",
    "    \n",
    "    child1 = np.concatenate((parent1[:cutpoint], parent2[cutpoint:]), axis=0)\n",
    "    child2 = np.concatenate((parent2[:cutpoint], parent1[cutpoint:]), axis=0)\n",
    "    \n",
    "    return child1, child2"
   ]
  },
  {
   "cell_type": "code",
   "execution_count": 52,
   "id": "4558f6c5",
   "metadata": {},
   "outputs": [],
   "source": [
    "def NormalizeData(data):\n",
    "    return data/np.sum(data)"
   ]
  },
  {
   "cell_type": "code",
   "execution_count": 105,
   "id": "8010ddc6",
   "metadata": {},
   "outputs": [],
   "source": [
    "def parent_selection(population, cantus_firmus):\n",
    "    fit = list(map(score_counterpoint,[cantus_firmus for i in range(len(population))], population))\n",
    "    \n",
    "    new_pop = []\n",
    "    new_pop.append(population[fit.index(max(fit))])\n",
    "    \n",
    "    fit_sum = sum(fit)\n",
    "    prob = None\n",
    "    if fit_sum != 0:\n",
    "        prob = NormalizeData(fit)\n",
    "        \n",
    "    indicies = np.random.choice(len(population), int((len(population)/ 3 - 1)), p = prob)\n",
    "    \n",
    "    for i in indicies:\n",
    "        new_pop.append(population[i])\n",
    "    \n",
    "    return new_pop\n",
    "\n",
    "def breed(parents):\n",
    "    children = []\n",
    "    \n",
    "    #Chooses parents at random and have them make children\n",
    "    for i in range(len(parents)*2):\n",
    "        par1 = parents[np.random.choice(len(parents))]\n",
    "        par2 = parents[np.random.choice(len(parents))]\n",
    "        \n",
    "        child1, child2 = crossover(par1, par2)\n",
    "        \n",
    "        children.append(child1)\n",
    "        children.append(child2)\n",
    "    \n",
    "    #Go through each child and give them a chance to mutate\n",
    "    children = list(map(mutation, children, [0.009 for i in range(len(children))]))\n",
    "    \n",
    "    return children\n",
    "\n",
    "def survivor_selection(parents, children, p, cantus_firmus):\n",
    "    pop = children + parents\n",
    "    \n",
    "    fit = list(map(score_counterpoint, [cantus_firmus for i in range(len(pop))], pop))\n",
    "    most_fit = max(fit)\n",
    "    best = pop[fit.index(most_fit)]\n",
    "    \n",
    "    number_to_keep = 1\n",
    "    \n",
    "    new_pop = []\n",
    "    \n",
    "    for i in range(number_to_keep):\n",
    "        new_pop.append(pop[fit.index(max(fit))])\n",
    "    \n",
    "    fit_sum = sum(fit)\n",
    "    prob = None\n",
    "    if fit_sum != 0:\n",
    "        prob = NormalizeData(fit)\n",
    "    \n",
    "    indicies = np.random.choice(len(pop), p-number_to_keep, p = prob)\n",
    "    \n",
    "    for i in indicies:\n",
    "        new_pop.append(pop[i])\n",
    "        \n",
    "    return new_pop, best\n",
    "    \n",
    "def evo(cantus_firmus, popsize, iterations, low_note, high_note):\n",
    "    population = []\n",
    "    best = None\n",
    "    \n",
    "    for i in range(popsize):\n",
    "        population.append(np.random.randint(low_note, high_note, len(cantus_firmus)))\n",
    "    \n",
    "    for i in range(iterations):\n",
    "        parents = parent_selection(population, cantus_firmus)\n",
    "        children = breed(parents)\n",
    "    \n",
    "        population, best = survivor_selection(parents, children, popsize, cantus_firmus)\n",
    "    \n",
    "    return best\n",
    "\n",
    "\n",
    "best = evo(cantus_firmus, 100, 500, 52, 68)"
   ]
  },
  {
   "cell_type": "code",
   "execution_count": 107,
   "id": "09a870ed",
   "metadata": {},
   "outputs": [],
   "source": [
    "melody.instruments = [notes_to_instrument(cantus_firmus), notes_to_instrument(best, 5)]\n",
    "melody.write(\"evo_counterpoint.mid\")"
   ]
  },
  {
   "cell_type": "code",
   "execution_count": 106,
   "id": "cd6e1e68",
   "metadata": {},
   "outputs": [],
   "source": [
    "third_voice = evo(best, 100, 500, 64, 80)\n",
    "melody.instruments = [notes_to_instrument(cantus_firmus), notes_to_instrument(best, 5), notes_to_instrument(third_voice, 10)]\n",
    "melody.write(\"three_voice_evo_counterpoint.mid\")"
   ]
  },
  {
   "cell_type": "code",
   "execution_count": 109,
   "id": "b3dadd03",
   "metadata": {},
   "outputs": [],
   "source": [
    "fourth_voice = evo(third_voice, 100, 500, 76, 94)\n",
    "melody.instruments = [notes_to_instrument(cantus_firmus), notes_to_instrument(best, 5), notes_to_instrument(third_voice, 10), notes_to_instrument(fourth_voice, 3)]\n",
    "melody.write(\"four_voice_evo_counterpoint.mid\")"
   ]
  }
 ],
 "metadata": {
  "kernelspec": {
   "display_name": "Python 3 (ipykernel)",
   "language": "python",
   "name": "python3"
  },
  "language_info": {
   "codemirror_mode": {
    "name": "ipython",
    "version": 3
   },
   "file_extension": ".py",
   "mimetype": "text/x-python",
   "name": "python",
   "nbconvert_exporter": "python",
   "pygments_lexer": "ipython3",
   "version": "3.8.11"
  }
 },
 "nbformat": 4,
 "nbformat_minor": 5
}
