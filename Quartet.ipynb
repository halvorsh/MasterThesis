{
 "cells": [
  {
   "cell_type": "code",
   "execution_count": 1,
   "id": "fb8b6db0",
   "metadata": {},
   "outputs": [],
   "source": [
    "import numpy as np\n",
    "import mido\n",
    "import pretty_midi\n",
    "import sklearn"
   ]
  },
  {
   "cell_type": "code",
   "execution_count": 2,
   "id": "3ca51d5e",
   "metadata": {},
   "outputs": [],
   "source": [
    "soprano_notes = [60,62,64,65,67,69,71,72,74,76,77,79]\n",
    "alto_notes = [55,57,59,60,62,64,65,67,69,71,72]\n",
    "tenor_notes = [48,50,51,53,55,57,59,60,62,64,65,67]\n",
    "bass_notes = [41,43,45,47,48,50,51,53,55,57,59,60]"
   ]
  },
  {
   "cell_type": "code",
   "execution_count": 3,
   "id": "17e6577b",
   "metadata": {},
   "outputs": [],
   "source": [
    "base_chords = [(0,4,7), (2,5,9), (4,7,11), (5,9,0), (7,11,2), (9,0,4)]"
   ]
  },
  {
   "cell_type": "code",
   "execution_count": 4,
   "id": "7d2723c7",
   "metadata": {},
   "outputs": [
    {
     "data": {
      "text/plain": [
       "[]"
      ]
     },
     "execution_count": 4,
     "metadata": {},
     "output_type": "execute_result"
    }
   ],
   "source": [
    "def get_valid_chords(prev_notes, base_chords):\n",
    "    inbetween = base_chords.copy()\n",
    "    #valid_chords = [chord if all(chord_note in chord for note in prev_notes) for chord in base_chords]\n",
    "    for note in prev_notes:\n",
    "        valid_chords = []\n",
    "        for chord in inbetween:\n",
    "            if note in chord:\n",
    "                valid_chords.append(chord)\n",
    "        inbetween = valid_chords\n",
    "    return valid_chords\n",
    "\n",
    "get_valid_chords([2,4], base_chords)"
   ]
  },
  {
   "cell_type": "code",
   "execution_count": 5,
   "id": "637db25e",
   "metadata": {},
   "outputs": [],
   "source": [
    "def notes_to_instrument(notes, type_inst=0):\n",
    "    instrument = pretty_midi.Instrument(type_inst)\n",
    "    instrument.notes = [pretty_midi.Note(100,notes[i],i,i+1) for i in range(len(notes))]\n",
    "    return instrument"
   ]
  },
  {
   "cell_type": "code",
   "execution_count": 6,
   "id": "6bd4fc89",
   "metadata": {},
   "outputs": [],
   "source": [
    "def quartet_music(soprano, alto, tenor, bass):\n",
    "    sop_inst = notes_to_instrument(soprano, 40)\n",
    "    alt_inst = notes_to_instrument(alto, 40)\n",
    "    ten_inst = notes_to_instrument(tenor, 41)\n",
    "    bas_inst = notes_to_instrument(bass, 42)\n",
    "    piece = pretty_midi.PrettyMIDI()\n",
    "    piece.instruments = [sop_inst, alt_inst, ten_inst, bas_inst]\n",
    "    piece.write(\"quartet.mid\")"
   ]
  },
  {
   "cell_type": "code",
   "execution_count": 7,
   "id": "4e356749",
   "metadata": {},
   "outputs": [],
   "source": [
    "length = 60\n",
    "root = base_chords[0][0]\n",
    "notes_in_key = [(root + i)%12 for i in [0,2,4,5,7,9,11]]\n",
    "soprano = []\n",
    "alto = []\n",
    "tenor = []\n",
    "bass = []\n",
    "\n",
    "for i in range(length):\n",
    "    sop = 0\n",
    "    alt = 0\n",
    "    ten = 0\n",
    "    bas = 0\n",
    "\n",
    "    if i == 0 or i == length-1:\n",
    "        sop = np.random.choice([note for note in soprano_notes if note%12 == root])\n",
    "    else:\n",
    "        sop = np.random.choice(soprano_notes)\n",
    "        \n",
    "    valid = get_valid_chords([sop%12], base_chords)\n",
    "\n",
    "    chosen_chord = valid[np.random.choice(len(valid))]\n",
    "\n",
    "    chosen_note = np.random.choice(chosen_chord)\n",
    "    alt = np.random.choice([note for note in alto_notes if note%12 == chosen_note])\n",
    "    valid = get_valid_chords([sop%12, alt%12], base_chords)\n",
    "\n",
    "    chosen_chord = valid[np.random.choice(len(valid))]\n",
    "\n",
    "    chosen_note = np.random.choice(chosen_chord)\n",
    "    ten = np.random.choice([note for note in alto_notes if note%12 == chosen_note])\n",
    "    valid = get_valid_chords([sop%12, alt%12, ten%12], base_chords)\n",
    "\n",
    "    chosen_chord = valid[np.random.choice(len(valid))]\n",
    "\n",
    "    chosen_note = np.random.choice(chosen_chord)\n",
    "    bas = np.random.choice([note for note in alto_notes if note%12 == chosen_note])\n",
    "    soprano.append(sop)\n",
    "    alto.append(alt)\n",
    "    tenor.append(ten)\n",
    "    bass.append(bas)\n",
    "\n",
    "quartet_music(soprano, alto, tenor, bass)"
   ]
  }
 ],
 "metadata": {
  "kernelspec": {
   "display_name": "Python 3 (ipykernel)",
   "language": "python",
   "name": "python3"
  },
  "language_info": {
   "codemirror_mode": {
    "name": "ipython",
    "version": 3
   },
   "file_extension": ".py",
   "mimetype": "text/x-python",
   "name": "python",
   "nbconvert_exporter": "python",
   "pygments_lexer": "ipython3",
   "version": "3.8.11"
  }
 },
 "nbformat": 4,
 "nbformat_minor": 5
}
