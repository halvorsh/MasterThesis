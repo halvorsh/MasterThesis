{
 "cells": [
  {
   "cell_type": "code",
   "execution_count": 1,
   "id": "8bdfc9a3",
   "metadata": {},
   "outputs": [],
   "source": [
    "import numpy as np\n",
    "import mido\n",
    "import pretty_midi"
   ]
  },
  {
   "cell_type": "code",
   "execution_count": 2,
   "id": "9a3353be",
   "metadata": {},
   "outputs": [],
   "source": [
    "midi_data = pretty_midi.PrettyMIDI(\"test.mid\")"
   ]
  },
  {
   "cell_type": "code",
   "execution_count": 3,
   "id": "2f356f83",
   "metadata": {},
   "outputs": [
    {
     "name": "stdout",
     "output_type": "stream",
     "text": [
      "[Instrument(program=0, is_drum=False, name=\"New Instrument\")]\n"
     ]
    }
   ],
   "source": [
    "print(midi_data.instruments)"
   ]
  },
  {
   "cell_type": "code",
   "execution_count": 4,
   "id": "a52c3e03",
   "metadata": {},
   "outputs": [],
   "source": [
    "instrument = midi_data.instruments[0]"
   ]
  },
  {
   "cell_type": "code",
   "execution_count": 5,
   "id": "44ff55ae",
   "metadata": {},
   "outputs": [
    {
     "name": "stdout",
     "output_type": "stream",
     "text": [
      "[Note(start=0.007812, end=0.979167, pitch=48, velocity=100), Note(start=0.989583, end=1.492188, pitch=53, velocity=100), Note(start=1.500000, end=1.989583, pitch=52, velocity=100), Note(start=1.989583, end=2.989583, pitch=48, velocity=100), Note(start=2.979167, end=3.489583, pitch=53, velocity=100), Note(start=3.500000, end=4.000000, pitch=55, velocity=100), Note(start=3.989583, end=5.997396, pitch=48, velocity=100)]\n"
     ]
    }
   ],
   "source": [
    "print(instrument.notes)"
   ]
  },
  {
   "cell_type": "code",
   "execution_count": 6,
   "id": "8c84d540",
   "metadata": {},
   "outputs": [],
   "source": [
    "notes = instrument.notes"
   ]
  },
  {
   "cell_type": "code",
   "execution_count": 7,
   "id": "ff7f9b6e",
   "metadata": {},
   "outputs": [],
   "source": [
    "base_motif = pretty_midi.PrettyMIDI()\n",
    "base_motif.instruments = [pretty_midi.Instrument(0)]\n",
    "base_instrument = base_motif.instruments[0]\n",
    "base_instrument.notes = [pretty_midi.Note(100,48,0,1),pretty_midi.Note(100,53,1,1.5),pretty_midi.Note(100,52,1.5,2),\n",
    "                         pretty_midi.Note(100,48,2,3),pretty_midi.Note(100,53,3,3.5),pretty_midi.Note(100,55,3.5,4),\n",
    "                         pretty_midi.Note(100,48,4,6)]\n",
    "base_motif.write(\"base.mid\")"
   ]
  },
  {
   "cell_type": "code",
   "execution_count": 8,
   "id": "8f8f350b",
   "metadata": {},
   "outputs": [
    {
     "data": {
      "text/plain": [
       "6"
      ]
     },
     "execution_count": 8,
     "metadata": {},
     "output_type": "execute_result"
    }
   ],
   "source": [
    "base_motif.get_end_time()"
   ]
  },
  {
   "cell_type": "code",
   "execution_count": 9,
   "id": "cc1e5f13",
   "metadata": {},
   "outputs": [
    {
     "name": "stdout",
     "output_type": "stream",
     "text": [
      "Pitch change at 0 -4\n",
      "Tempo change at 2 0.125\n",
      "Tempo change at 4 0.25\n",
      "Pitch change at 5 -4\n"
     ]
    },
    {
     "data": {
      "text/plain": [
       "[Note(start=0.000000, end=1.000000, pitch=44, velocity=100),\n",
       " Note(start=1.000000, end=1.500000, pitch=53, velocity=100),\n",
       " Note(start=1.500000, end=2.125000, pitch=52, velocity=100),\n",
       " Note(start=2.125000, end=3.000000, pitch=48, velocity=100),\n",
       " Note(start=3.000000, end=3.750000, pitch=53, velocity=100),\n",
       " Note(start=3.750000, end=4.000000, pitch=51, velocity=100),\n",
       " Note(start=4.000000, end=6.000000, pitch=48, velocity=100)]"
      ]
     },
     "execution_count": 9,
     "metadata": {},
     "output_type": "execute_result"
    }
   ],
   "source": [
    "def copy_motif(motif_to_copy):\n",
    "    variation = pretty_midi.PrettyMIDI()\n",
    "    variation.instruments = [pretty_midi.Instrument(0)]\n",
    "    notes = []\n",
    "    for note in motif_to_copy.instruments[0].notes:\n",
    "        notes.append(pretty_midi.Note(note.velocity,note.pitch,note.start,note.end))\n",
    "    variation.instruments[0].notes = notes\n",
    "    return variation\n",
    "\n",
    "variation = copy_motif(base_motif)\n",
    "length = base_motif.get_end_time()\n",
    "notes = variation.instruments[0].notes\n",
    "pitch_changes = [-4,-3,-2,-1,1,2,3,4]\n",
    "tempo_changes = [-0.25,-0.125,0.125,0.25] #[-1,-0.5,-0.25,-0.125,0.125,0.25,0.5,1]\n",
    "\n",
    "for i in range(len(notes)-1):\n",
    "    if np.random.random() < 0.2:\n",
    "        pitch_change = np.random.choice(pitch_changes)\n",
    "        notes[i].pitch += pitch_change\n",
    "        print(\"Pitch change at\",i, pitch_change)\n",
    "    \n",
    "    if np.random.random() < 0.2:\n",
    "        tempo_change = np.random.choice(tempo_changes)\n",
    "        notes[i].end += tempo_change\n",
    "        notes[i+1].start += tempo_change\n",
    "        print(\"Tempo change at\",i, tempo_change)\n",
    "\n",
    "variation.write(\"vari.mid\")\n",
    "notes"
   ]
  }
 ],
 "metadata": {
  "kernelspec": {
   "display_name": "Python 3 (ipykernel)",
   "language": "python",
   "name": "python3"
  },
  "language_info": {
   "codemirror_mode": {
    "name": "ipython",
    "version": 3
   },
   "file_extension": ".py",
   "mimetype": "text/x-python",
   "name": "python",
   "nbconvert_exporter": "python",
   "pygments_lexer": "ipython3",
   "version": "3.8.11"
  }
 },
 "nbformat": 4,
 "nbformat_minor": 5
}
